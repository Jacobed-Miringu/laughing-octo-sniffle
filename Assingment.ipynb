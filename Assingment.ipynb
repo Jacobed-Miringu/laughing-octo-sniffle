{
 "cells": [
  {
   "cell_type": "markdown",
   "metadata": {
    "collapsed": true
   },
   "source": [
    "# My Jupyter Notebook on IBM Watson Studio"
   ]
  },
  {
   "cell_type": "markdown",
   "metadata": {},
   "source": [
    "**Jacobed Wanjiku Miring'u**\n",
    "I want to be a Data Analyst"
   ]
  },
  {
   "cell_type": "markdown",
   "metadata": {},
   "source": [
    "*I am interested in data science because Data Science brings a balance in both business and technical concepts to engage in the Agricultural sector. Making evidence-based decisions and becoming more data-driven are the key skills I want to build. The ability to use information tools to interpret, report, and visualize data will be mind-boggling. Learning how to use predictive modeling to help Agricultural organizations meet the needs of their consumers, hence increasing efficiency and making informed and good business decisions. Agriculture is an essential business segment for the nutrition and health of the global population. Data Science in agriculture will significantly increase the efficiency of this sector and enhance the survival and thriving of agriculture supply chain partners.*"
   ]
  },
  {
   "cell_type": "markdown",
   "metadata": {},
   "source": [
    "### Determining the speed rate for planting 1 acre of land"
   ]
  },
  {
   "cell_type": "code",
   "execution_count": 3,
   "metadata": {},
   "outputs": [
    {
     "name": "stdout",
     "output_type": "stream",
     "text": [
      "Planting 1 acre of land at 5 mph with a planting rate of 20 seeds per foot and a row spacing of 30 inches requires a planting speed rate of 0.00 mph.\n"
     ]
    }
   ],
   "source": [
    "# Define planting rate and row spacing\n",
    "planting_rate = 5  # seeds per foot\n",
    "row_spacing = 30  # inches\n",
    "\n",
    "# Convert row spacing to feet\n",
    "row_spacing_ft = row_spacing / 12\n",
    "\n",
    "# Calculate seed spacing in feet\n",
    "seed_spacing_ft = 1 / (planting_rate / 12)\n",
    "\n",
    "# Calculate planting speed rate in miles per hour\n",
    "ground_speed_mph = 5  # miles per hour\n",
    "planting_speed_rate = ground_speed_mph * (row_spacing_ft / seed_spacing_ft) / 5280\n",
    "\n",
    "# Print result\n",
    "print(f\"Planting 1 acre of land at {ground_speed_mph} mph with a planting rate of {planting_rate} seeds per foot and a row spacing of {row_spacing} inches requires a planting speed rate of {planting_speed_rate:.2f} mph.\")\n"
   ]
  },
  {
   "cell_type": "markdown",
   "metadata": {},
   "source": [
    "- Corn\n",
    "- Soybeans\n",
    "- Wheat\n",
    "|Crop |Planting Speed |\n",
    "|--- |---|\n",
    "|Corn |5 mph|\n",
    "|Soybeans |6 mph|\n",
    "|Wheat |8 mph|\n"
   ]
  }
 ],
 "metadata": {
  "kernelspec": {
   "display_name": "Python 3.10",
   "language": "python",
   "name": "python3"
  },
  "language_info": {
   "codemirror_mode": {
    "name": "ipython",
    "version": 3
   },
   "file_extension": ".py",
   "mimetype": "text/x-python",
   "name": "python",
   "nbconvert_exporter": "python",
   "pygments_lexer": "ipython3",
   "version": "3.10.9"
  }
 },
 "nbformat": 4,
 "nbformat_minor": 1
}
